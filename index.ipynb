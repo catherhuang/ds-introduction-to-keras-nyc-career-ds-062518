{
 "cells": [
  {
   "cell_type": "markdown",
   "metadata": {},
   "source": [
    "# Introduction to Keras Lab\n",
    "\n",
    "## Objective\n",
    "\n",
    "In this lab, we'll learn how to use Keras-- an industry standard tool to build for quickly prototyping and training Deep Neural Networks.\n",
    "\n",
    "## Introduction \n",
    "\n",
    "In the last lab, we learned how to build a small neural network from scratch, with only numpy to help.  While this was illuminating to help us learn how Artificial Neural Networks actually work, the construction of it was a bit too tedious for real-world data scientists to do on the job. Because of this, many great frameworks and libraries have been created to make it a simple task to build a neural network--Keras, and TensorFlow!\n",
    "<table>\n",
    "<tr>\n",
    "    <td><a href=\"https://www.tensorflow.org\"><img src='tensorflow-logo.png' height=100% width=100%></a></td>\n",
    "    <td><a href=\"https://keras.io/\"><img src='keras-logo.png' height=75% width=75%></a></td>\n",
    "</tr>\n",
    "</table>\n",
    "    \n",
    "## A Bit of Background\n",
    "\n",
    "If we're going to talk about Keras, we'll first need to talk about TensorFlow.  Keras and TensorFlow are both created and maintained by Google.  TensorFlow is a framework for building **_Static Computational Graphs_**, with a special emphasis on Deep Learning.  It provides much of the same functionality of numpy, but with a ton of common functionality needed for neural networks already created. Since working with TensorFlow can be a bit involved, Keras was invented as a high-level API for building Neural Networks with TensorFlow as a backend.  When you're using Keras, you're still using TensorFlow--you just don't have to write any TensorFlow code directly.\n",
    "\n",
    "The biggest benefit of using TensorFlow or Keras is that they provide [Auto Differentiation](https://en.wikipedia.org/wiki/Automatic_differentiation) by default, which means that we don't actually have to handle Back Propagation, or caching any of the intermediate values during our forward propagation step so that we can use them later in back prop.  This is just one of the many reasons you'll love working with these tools!\n",
    "\n",
    "## Getting Started\n",
    "\n",
    "We'll start by building a small MLP with Keras.  Run the cell below to import everything we'll need for this lab."
   ]
  },
  {
   "cell_type": "code",
   "execution_count": null,
   "metadata": {},
   "outputs": [],
   "source": [
    "import keras\n",
    "from keras.layers import Dense\n",
    "from keras.models import Sequential\n",
    "from keras.datasets import mnist\n",
    "import matplotlib.pyplot as plt\n",
    "%matplotlib inline"
   ]
  },
  {
   "cell_type": "markdown",
   "metadata": {},
   "source": [
    "## The Data Set\n",
    "\n",
    "In this lab, we'll be working with the MNIST dataset.  This dataset is a collection of handwritten digits, 0 through 9.  Each image is black and white, 28 pixel high, 28 pixels wide, and comes with a label.  From a historical perspective, this dataset has incredible significance to the Deep Learning community.  These days, it is treated as the \"Hello, World!\" of Deep Learning.  \n",
    "\n",
    "We'll have to do some basic data preparation in order to load in our data and get it in a shape usable by a Neural Network. \n",
    "\n",
    "In the cell below, call `mnist.load_data()` to store our data in the tuples we've laid out. You'll note that it's already been split into training and testing sets. \n",
    "\n",
    "**_NOTE:_** If this is your time ever running this on your computer, Keras will have to download the images from the internet.  This is a large dataset, and the download could take a while.  Be patient!"
   ]
  },
  {
   "cell_type": "code",
   "execution_count": null,
   "metadata": {},
   "outputs": [],
   "source": [
    "(X_train, y_train), (X_test, y_test) = None"
   ]
  },
  {
   "cell_type": "markdown",
   "metadata": {},
   "source": [
    "Let's inspect a sample image to see what one of the images looks like.  \n",
    "\n",
    "In the cell below, call `plt.imshow()` and pass in the first item from `X_train`."
   ]
  },
  {
   "cell_type": "code",
   "execution_count": null,
   "metadata": {},
   "outputs": [],
   "source": [
    "\n",
    "\n",
    "print(\"Label: {}\".format(y_train[0]))"
   ]
  },
  {
   "cell_type": "markdown",
   "metadata": {},
   "source": [
    "a 5! A somewhat sloppy 5, but still a 5.  After a few short lines of code, we'll have built and trained a neural network that is able to recognize this as a 5.  Let's take a look at the way raw data for the first sample. \n",
    "\n",
    "In the cell below, access `X_train[0]` to see what it looks like."
   ]
  },
  {
   "cell_type": "code",
   "execution_count": null,
   "metadata": {},
   "outputs": [],
   "source": []
  },
  {
   "cell_type": "markdown",
   "metadata": {},
   "source": [
    "Our image is a 28x28 matrix.  In plain English, that means that it's an array containing 28 arrays, with each inner array containing 28 integer values between 0 and 255.  \n",
    "\n",
    "In order for us to feed this into a neural network, we'll need to reshape this from a matrix into a vector.  This is a basic step needed for most image preparation (except when we're building a Convolutional Neural Network--more on that in a later lab!).  \n",
    "\n",
    "In the cell below, we'll reshape `X_train` and `X_test` using their built in `.reshape()` methods. \n",
    "\n",
    "`X_train` contains 60,000 samples of shape `(28,28)`--so we'll reshape it to `(60000, 784)`.  We'll also method chain to cast the data inside of it from type `int8` to `float32`.  \n",
    "\n",
    "`X_test` contains only 10,000 samples, so we'll reshape that to `(10000, 784)`.  We'll also cast this to type `float32`.  "
   ]
  },
  {
   "cell_type": "code",
   "execution_count": null,
   "metadata": {},
   "outputs": [],
   "source": [
    "X_train = None\n",
    "X_test = None"
   ]
  },
  {
   "cell_type": "markdown",
   "metadata": {},
   "source": [
    "While we're preprocessing our data, it's also a good idea to normalize it.  Normally, this would involve subtracting the mean and dividing by the standard deviation for each column, or using a `StandardScaler()` object from sklean.  However, since we're working with image data, we can use a quick hack and just divide every value by 255. \n",
    "\n",
    "In the cell below, normalize the data in `X_train` and `X_test` by dividing each by 255."
   ]
  },
  {
   "cell_type": "code",
   "execution_count": null,
   "metadata": {},
   "outputs": [],
   "source": [
    "X_train /= None\n",
    "X_test /= None"
   ]
  },
  {
   "cell_type": "markdown",
   "metadata": {},
   "source": [
    "We've successfully pre-processed our data, but we still need to deal with our labels, which are inside of `y_train` and `y_test`.  This is much easier--we need to change the data from its current categorical form to a one-hot encoded format.  Keras makes this easy by providing a `to_categorical()` function inside of its `utils` module.\n",
    "\n",
    "In the cell below, call `keras.utils.to_categorical()` and pass in the variable containing the labels to be reshaped as the first parameter.  For the second parameter, pass in the number of categories the data contains--in this case, `10`. "
   ]
  },
  {
   "cell_type": "code",
   "execution_count": null,
   "metadata": {},
   "outputs": [],
   "source": [
    "y_train = None\n",
    "y_test = None"
   ]
  },
  {
   "cell_type": "markdown",
   "metadata": {},
   "source": [
    "Great! We've now successfully preprocessed our data so that it's ready for use in a neural network!\n",
    "\n",
    "## Building a Neural Network with Keras\n",
    "\n",
    "Let's start by building our neural network. This means we need to create a `Sequential()` object.  This is an empty neural network that hasn't had any layers added to it yet.  \n",
    "\n",
    "Our workflow in Keras will consist of of the following:\n",
    "\n",
    "* Create a `Sequential` object\n",
    "* Add the layers we want to our `Sequential` object. When defining the first hidden layer, we'll also define our input layer.  \n",
    "* Compile our model\n",
    "* Fit our model\n",
    "* Examine the results!\n",
    "\n",
    "Let's get started! In the cell below, create a `Sequential()` object."
   ]
  },
  {
   "cell_type": "code",
   "execution_count": null,
   "metadata": {},
   "outputs": [],
   "source": [
    "model = None"
   ]
  },
  {
   "cell_type": "markdown",
   "metadata": {},
   "source": [
    "Now, we can add layers to our model by passing them in to the model's `.add()` method.  There are a ton of different kinds of layers we can add to our model, but for this lab we'll keep it simple and only use a single `Dense()` layer. \n",
    "\n",
    "\n",
    "\n",
    "There are several parameters we'll need to pass in to the `Dense()` layer we're creating at each step, to define exactly how we want our Dense layer to be shaped.  We'll need to tell the first layer the following things:\n",
    "\n",
    "* The number of neurons in the layer\n",
    "* The activation function of the layer (although this can also be added using `model.add()`, it's easier to just pass it in as a keyword parameter when creating the `Dense` layer)\n",
    "* If the layer we're creating is the first hidden layer, we'll also need to tell it the shape of the input layer.  In this case, we'll do that by passing in the keyword parameter `input_shape=(784,)`.\n",
    "\n",
    "In the cell below:\n",
    "\n",
    "* Call `model.add()` and pass in a `Dense` layer with `25` neurons.  Also set the activation to `\"sigmoid\"`, and the input shape to `(784,)`\n",
    "* Call `model.add()` again to create out output layer.  This time, pass in a `Dense` layer with `10` neurons (one for each possible class that it can predict).  This time, set the activation to `\"softmax\"`. "
   ]
  },
  {
   "cell_type": "code",
   "execution_count": null,
   "metadata": {},
   "outputs": [],
   "source": []
  },
  {
   "cell_type": "markdown",
   "metadata": {},
   "source": [
    "Great! With 2 lines of code, we've now created a complex neural network capable of reading human handwriting!\n",
    "\n",
    "Let's look at the structure of the model we've just created. \n",
    "\n",
    "In the cell below, call `model.summary()`."
   ]
  },
  {
   "cell_type": "code",
   "execution_count": null,
   "metadata": {},
   "outputs": [],
   "source": []
  },
  {
   "cell_type": "markdown",
   "metadata": {},
   "source": [
    "Note that the summary of our model doesn't show the input layer by default. This is a common convention in Deep Learning, since the input layer doesn't contain any **_trainable parameters_**, meaning that it doesn't really do anything.  \n",
    "\n",
    "Also note the number of trainable parameters in our network--19,885! Although this may seem like a lot, its still quite small compared to typical Artificial Neural Networks used in Deep Learning.  \n",
    "\n",
    "Now, we need to compile our model.  This is a step unique to Keras, where the neural network we've created is actually created as a static computational graph in TensorFlow.  During this step, we'll need to pass in certain some information. Specifically:\n",
    "\n",
    "* We'll need to specify the loss.  Since this is a multi-categorical problem, we'll set the `loss` to `\"categorical_crossentropy\"`.\n",
    "* We'll also need to tell the model what type of optimizer we'll use.  In this case, set the `optimzer` to `\"SGD\"`, which is short for **_Stochastic Gradient Descent_**.\n",
    "* Finally, we'll need to tell the model what metrics we want back.  In this case, we'll pass in `[\"accuracy\"]` to the `metrics` keyword argument."
   ]
  },
  {
   "cell_type": "code",
   "execution_count": null,
   "metadata": {},
   "outputs": [],
   "source": []
  },
  {
   "cell_type": "markdown",
   "metadata": {},
   "source": [
    "Now, the fun part--we can actually fit our model, and see how well it does! \n",
    "\n",
    "Just like the last step, there are multiple parameters we'll need to pass in, such as:\n",
    "\n",
    "* `X_train` and `y_train`\n",
    "* a `batch_size` of `32`\n",
    "* The number of `epochs`, which we'll set to `10`.\n",
    "* Set `verbose` to `1`, so that we'll get messages as the model trains. \n",
    "* We'll also pass in `validation_data` to the tuple`(X_test, y_test)`.  With this, the model will compute the accuracy on our validation set at the end of each epoch.  "
   ]
  },
  {
   "cell_type": "code",
   "execution_count": null,
   "metadata": {},
   "outputs": [],
   "source": [
    "model = None"
   ]
  },
  {
   "cell_type": "markdown",
   "metadata": {},
   "source": [
    "Validation accuracy of 91%--that's pretty good!\n",
    "\n",
    "\n",
    "## Visualizing our Results\n",
    "\n",
    "Calling `model.fit()` in Keras has the added benefit of returning a `History` object that contains all the statistics we saw above, that were printed out above live during the training.  It's a good habit to visualize our loss and accuracy, as well as our validation loss and accuracy.  \n",
    "\n",
    "In the cell below, examine `model.history` to see what it contains."
   ]
  },
  {
   "cell_type": "code",
   "execution_count": null,
   "metadata": {},
   "outputs": [],
   "source": []
  },
  {
   "cell_type": "markdown",
   "metadata": {},
   "source": [
    "Great! It's just basic python dictionary with the following keys:\n",
    "\n",
    "* `val_loss`\n",
    "* `val_acc`\n",
    "* `loss`\n",
    "* `acc`\n",
    "\n",
    "Let's plot our Accuracy and Validation Accuracy on the same plot, so that we check if the model is overfitting at all. \n",
    "\n",
    "In the cell below, create a visualization using Matplotlib, and plot `val_acc` and `acc`."
   ]
  },
  {
   "cell_type": "code",
   "execution_count": null,
   "metadata": {},
   "outputs": [],
   "source": []
  },
  {
   "cell_type": "markdown",
   "metadata": {},
   "source": [
    "**_Question:_** Do you detect any overfitting or underfitting in the model? How can you tell? Explain your answer.\n",
    "\n",
    "Write your answer below this line:\n",
    "______________________________________________________________________________________________________________________\n",
    "\n",
    "The model seems to have a high overall validation accuracy score, which means the model is not underfit.  The training accuracy and testing accuracy are also very close, suggesting that the model has not yet begun to overfit the data.  However, this would likely happen if we drastically increased the size of the network, or continued training on the data for many more epochs."
   ]
  },
  {
   "cell_type": "markdown",
   "metadata": {},
   "source": [
    "## Building a Bigger Model\n",
    "\n",
    "Now that you've cut your teeth in Keras, let's build a bigger model! For the remainder of this notebook, your task it build your own neural network in Keras from start to finish.  You do not need to repeat the data preprocessing steps done at the beginning of this notebook, since that data is still available to us. \n",
    "\n",
    "In the cells below, your task is to:\n",
    "* Build and train a bigger model for classification on the MNIST dataset. \n",
    "* Visualize your results to check for overfitting and underfitting.\n",
    "\n",
    "When building your MLP below, consider the following choices you'll need to make:\n",
    "\n",
    "* How many layers will your model have?\n",
    "* How many neurons will each layer have?\n",
    "* What activation function will your model use?\n",
    "\n",
    "We'll explore these topics in depth in a later lab, but it never hurts to learn through experimentation. \n",
    "\n",
    "**_NOTE:_**  The larger your network, the longer the training will take.  Don't build something too big if you don't have access to GPU-backed training!"
   ]
  },
  {
   "cell_type": "code",
   "execution_count": null,
   "metadata": {},
   "outputs": [],
   "source": []
  },
  {
   "cell_type": "code",
   "execution_count": null,
   "metadata": {},
   "outputs": [],
   "source": []
  },
  {
   "cell_type": "markdown",
   "metadata": {},
   "source": [
    "## Conclusion\n",
    "\n",
    "In this lab, we learned how to build a basic model in Keras, and gained some valuable experience with the general Deep Learning workflow. "
   ]
  }
 ],
 "metadata": {
  "kernelspec": {
   "display_name": "Python 3",
   "language": "python",
   "name": "python3"
  },
  "language_info": {
   "codemirror_mode": {
    "name": "ipython",
    "version": 3
   },
   "file_extension": ".py",
   "mimetype": "text/x-python",
   "name": "python",
   "nbconvert_exporter": "python",
   "pygments_lexer": "ipython3",
   "version": "3.6.6"
  }
 },
 "nbformat": 4,
 "nbformat_minor": 2
}
